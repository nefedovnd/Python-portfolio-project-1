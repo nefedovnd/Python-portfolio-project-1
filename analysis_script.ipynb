{
 "cells": [
  {
   "cell_type": "markdown",
   "id": "8d8d641c",
   "metadata": {},
   "source": [
    "This my first portfolio project for Codecademy Python Data Science course.\n",
    "\n",
    "This project presumes no specific guidlines and work \"on your own\".\n",
    "\n",
    "Nevertheless I have data nalysis skills in other languages, this is my first Python project for this course. \n",
    "\n",
    "Thus I will mainly focud on descriptive statistics for the \"U.S. Medical Insurance Costs\" data set\".\n",
    "\n",
    "\n",
    "All the best,\n",
    "Nick!"
   ]
  },
  {
   "cell_type": "markdown",
   "id": "5a85cec3",
   "metadata": {},
   "source": [
    "# General descriptive analysis"
   ]
  },
  {
   "cell_type": "markdown",
   "id": "8dd67325",
   "metadata": {},
   "source": [
    "## Meeting the dataset\n",
    "Lets firstly have a basic overview of the dataset head"
   ]
  },
  {
   "cell_type": "code",
   "execution_count": 25,
   "id": "64e601c6",
   "metadata": {},
   "outputs": [
    {
     "name": "stdout",
     "output_type": "stream",
     "text": [
      "   age     sex     bmi  children smoker     region      charges\n",
      "0   19  female  27.900         0    yes  southwest  16884.92400\n",
      "1   18    male  33.770         1     no  southeast   1725.55230\n",
      "2   28    male  33.000         3     no  southeast   4449.46200\n",
      "3   33    male  22.705         0     no  northwest  21984.47061\n",
      "4   32    male  28.880         0     no  northwest   3866.85520\n"
     ]
    }
   ],
   "source": [
    "import pandas as pd\n",
    "data = pd.read_csv('insurance.csv')\n",
    "\n",
    "print(data.head())"
   ]
  },
  {
   "cell_type": "markdown",
   "id": "4616123f",
   "metadata": {},
   "source": [
    "## Variables recode\n",
    "There are several variables which needs to be recoded right before I come up to the summary statistics."
   ]
  },
  {
   "cell_type": "markdown",
   "id": "5ab74913",
   "metadata": {},
   "source": [
    "### Sex (size, categories)\n",
    "Count the number of \"sex\" categories and its share of the total sample"
   ]
  },
  {
   "cell_type": "code",
   "execution_count": 26,
   "id": "5aaede03",
   "metadata": {},
   "outputs": [],
   "source": [
    "women_count = 0\n",
    "for gender in data['sex']:\n",
    "    if gender == 'female':\n",
    "        women_count = women_count + 1\n",
    "        \n",
    "men_count = 0\n",
    "for gender in data['sex']:\n",
    "    if gender == 'male':\n",
    "        men_count = men_count + 1\n",
    "\n",
    "female_percentage = round(((women_count / len(data['sex']))*100), 2)\n",
    "male_percentage = round(((men_count / len(data['sex'])) *100), 2)"
   ]
  },
  {
   "cell_type": "markdown",
   "id": "f5916aa4",
   "metadata": {},
   "source": [
    "### Smoker (size, categories)\n",
    "Count the number of \"smoker\" categories and its share of the total sample"
   ]
  },
  {
   "cell_type": "code",
   "execution_count": 27,
   "id": "64f5acd9",
   "metadata": {},
   "outputs": [],
   "source": [
    "smoker_count = 0\n",
    "for person in data['smoker']:\n",
    "    if person == 'yes':\n",
    "        smoker_count = smoker_count + 1\n",
    "        \n",
    "non_smokers_count = 0\n",
    "for person in data['smoker']:\n",
    "    if person == 'no':\n",
    "        non_smokers_count = non_smokers_count + 1\n",
    "        \n",
    "smoker_percentage = round(((smoker_count / len(data['smoker']))*100), 1)                     \n",
    "non_smoker_percentage = round(((non_smokers_count / len(data['smoker']))*100), 1)"
   ]
  },
  {
   "cell_type": "markdown",
   "id": "ffa94b3c",
   "metadata": {},
   "source": [
    "### Regions (unique categories, format)"
   ]
  },
  {
   "cell_type": "markdown",
   "id": "c85ab872",
   "metadata": {},
   "source": [
    "#### Change \"region\" strings format\n",
    "Changing \"region\" strings into a title format will serve for more qualified output."
   ]
  },
  {
   "cell_type": "code",
   "execution_count": 28,
   "id": "99a11198",
   "metadata": {},
   "outputs": [],
   "source": [
    "data['region'] = data['region'].str.title()"
   ]
  },
  {
   "cell_type": "markdown",
   "id": "bff83ac7",
   "metadata": {},
   "source": [
    "####  Unique region list\n",
    "Define U.S. regions of the sample."
   ]
  },
  {
   "cell_type": "code",
   "execution_count": 29,
   "id": "31ea8f7f",
   "metadata": {},
   "outputs": [
    {
     "name": "stdout",
     "output_type": "stream",
     "text": [
      "Southwest, Southeast, Northwest, Northeast\n"
     ]
    }
   ],
   "source": [
    "region_list = []\n",
    "for region in data['region']:\n",
    "    if region not in region_list:\n",
    "        region_list.append(region)\n",
    "print((', '.join(region_list)))"
   ]
  },
  {
   "cell_type": "markdown",
   "id": "dc91ebc0",
   "metadata": {},
   "source": [
    "### Age (distribution, mean, categories, share)"
   ]
  },
  {
   "cell_type": "markdown",
   "id": "29ab550c",
   "metadata": {},
   "source": [
    "#### Age distribution\n",
    "Define minimum and maximum age of the individual in the sample."
   ]
  },
  {
   "cell_type": "code",
   "execution_count": 30,
   "id": "fe0249ee",
   "metadata": {},
   "outputs": [],
   "source": [
    "min_age = min(data['age'])\n",
    "max_age = max(data['age']) "
   ]
  },
  {
   "cell_type": "markdown",
   "id": "5c9c1f6c",
   "metadata": {},
   "source": [
    "#### Age average\n",
    "Define average age of the individual in the sample."
   ]
  },
  {
   "cell_type": "code",
   "execution_count": 31,
   "id": "a45164dd",
   "metadata": {},
   "outputs": [],
   "source": [
    "age_mean = round(data[\"age\"].mean())         "
   ]
  },
  {
   "cell_type": "markdown",
   "id": "e69deaf1",
   "metadata": {},
   "source": [
    "#### Age categorization\n",
    "In line with \"Integris Health\" - \"Stages of life article\", I decided to categorize ages of the sample population:\n",
    "\n",
    "Teen = 13-19 yrs\n",
    "\n",
    "Adult = 20-39 yrs\t\n",
    "\n",
    "Middle Age Adult = 40-59 yrs\t\n",
    "\n",
    "Senior Adult = 60+"
   ]
  },
  {
   "cell_type": "code",
   "execution_count": 32,
   "id": "5164ac81",
   "metadata": {},
   "outputs": [],
   "source": [
    "import numpy as np\n",
    "condlist = [(data['age'] >= 13) & (data['age'] <= 19),\n",
    "           (data['age'] >= 20) & (data['age'] <= 39),\n",
    "           (data['age'] >= 40) & (data['age'] <= 59),\n",
    "           (data['age'] >= 60) & (data['age'] <= 90)]\n",
    "choicelst = ['Teen',\n",
    "             'Adult',\n",
    "             'Middle age adult',\n",
    "            'Seniour Adult']\n",
    "data['Age_category'] = np.select(condlist, choicelst)"
   ]
  },
  {
   "cell_type": "markdown",
   "id": "10559fd1",
   "metadata": {},
   "source": [
    "#### Age count and share of the sample population\n",
    "Calculate age categories size and its share of the sample."
   ]
  },
  {
   "cell_type": "code",
   "execution_count": 33,
   "id": "0b4f6741",
   "metadata": {},
   "outputs": [],
   "source": [
    "age_cat_count = data.groupby('Age_category').size()\n",
    "age_p = round(((age_cat_count / len(data['age']))*100), 1) "
   ]
  },
  {
   "cell_type": "markdown",
   "id": "4063d1bf",
   "metadata": {},
   "source": [
    "### Charges (distribution, mean, mean by gender)"
   ]
  },
  {
   "cell_type": "markdown",
   "id": "3b463af7",
   "metadata": {},
   "source": [
    "#### Charges distribution\n",
    "Define minimum and maximun charges for the sample."
   ]
  },
  {
   "cell_type": "code",
   "execution_count": 34,
   "id": "37c37769",
   "metadata": {},
   "outputs": [],
   "source": [
    "min_charge = round(min(data['charges']))\n",
    "max_charge = round(max(data['charges']))"
   ]
  },
  {
   "cell_type": "markdown",
   "id": "53511bc2",
   "metadata": {},
   "source": [
    "#### Charges mean\n",
    "Define mean charge for the sample."
   ]
  },
  {
   "cell_type": "code",
   "execution_count": 35,
   "id": "cb8bfb3c",
   "metadata": {},
   "outputs": [],
   "source": [
    "charge_mean = round(data[\"charges\"].mean() )  "
   ]
  },
  {
   "cell_type": "markdown",
   "id": "af1fce47",
   "metadata": {},
   "source": [
    "### BMI (distribution, categories, share, mean)"
   ]
  },
  {
   "cell_type": "markdown",
   "id": "3424102c",
   "metadata": {},
   "source": [
    "#### BMI distribution\n",
    "Define minimum and maximum BMI for thr sample."
   ]
  },
  {
   "cell_type": "code",
   "execution_count": 36,
   "id": "667a588c",
   "metadata": {},
   "outputs": [],
   "source": [
    "min_bmi = round(min(data['bmi']))\n",
    "max_bmi = round(max(data['bmi']))"
   ]
  },
  {
   "cell_type": "markdown",
   "id": "cd11b1a2",
   "metadata": {},
   "source": [
    "#### BMI mean\n",
    "Define mean BMI value for the sample."
   ]
  },
  {
   "cell_type": "code",
   "execution_count": 37,
   "id": "deefbd96",
   "metadata": {},
   "outputs": [],
   "source": [
    "bmi_mean = round(data['bmi'].mean())"
   ]
  },
  {
   "cell_type": "markdown",
   "id": "d5654816",
   "metadata": {},
   "source": [
    "#### BMI categories\n",
    "In line with NHS UK BMI categories, I decided to categorize ages of the sample population:\n",
    "\n",
    "Underweight = 0-18.5 BMI\n",
    "\n",
    "Healthy = 18.5-24.9 BMI\t\n",
    "\n",
    "Overweight = 25-29.9 BMI\t\n",
    "\n",
    "Obese = 30 and over BMI"
   ]
  },
  {
   "cell_type": "code",
   "execution_count": 38,
   "id": "8fb316b5",
   "metadata": {},
   "outputs": [],
   "source": [
    "condlist2 = [(data['bmi'] >= 0) & (data['bmi'] <= 18.5),\n",
    "           (data['bmi'] >= 18.5) & (data['bmi'] <= 24.9),\n",
    "           (data['bmi'] >= 24.9) & (data['bmi'] <= 29.9),\n",
    "           (data['bmi'] >= 29.9) & (data['bmi'] <= 90)]\n",
    "choicelst2 = ['Underweight',\n",
    "             'Healthy',\n",
    "             'Overweight',\n",
    "            'Obese']\n",
    "data['BMI_category'] = np.select(condlist2, choicelst2)"
   ]
  },
  {
   "cell_type": "markdown",
   "id": "03771440",
   "metadata": {},
   "source": [
    "#### BMI count and share of the sample population"
   ]
  },
  {
   "cell_type": "code",
   "execution_count": 39,
   "id": "dfe2b233",
   "metadata": {},
   "outputs": [],
   "source": [
    "bmi_cat_count = data.groupby('BMI_category').size()\n",
    "bmi_p = round(((bmi_cat_count / len(data['bmi']))*100), 1) "
   ]
  },
  {
   "cell_type": "markdown",
   "id": "b1724560",
   "metadata": {},
   "source": [
    "### Number of children (distribution, share, mean)"
   ]
  },
  {
   "cell_type": "markdown",
   "id": "071bf2b6",
   "metadata": {},
   "source": [
    "#### Number of children distribution\n",
    "Create categories for the number of children of individuals in the sample."
   ]
  },
  {
   "cell_type": "code",
   "execution_count": 40,
   "id": "37340774",
   "metadata": {},
   "outputs": [],
   "source": [
    "child_cat = []\n",
    "for kid in data['children']:\n",
    "    if kid not in child_cat:\n",
    "        child_cat.append(kid)\n",
    "child_cat = sorted(child_cat)"
   ]
  },
  {
   "cell_type": "markdown",
   "id": "78fb5a64",
   "metadata": {},
   "source": [
    "#### Number of children in percentage of sample\n",
    "Evaluate percentage of each \"number of children\" category in the sample."
   ]
  },
  {
   "cell_type": "code",
   "execution_count": null,
   "id": "054d0c80",
   "metadata": {
    "code_folding": []
   },
   "outputs": [],
   "source": [
    "zero_kid_p = round(((data['children'].value_counts()[0]) / len(data['children']))*100)\n",
    "one_kid_p = round(((data['children'].value_counts()[1]) / len(data['children']))*100)\n",
    "two_kid_p = round(((data['children'].value_counts()[2]) / len(data['children']))*100)\n",
    "three_kid_p = round(((data['children'].value_counts()[3]) / len(data['children']))*100)\n",
    "four_kid_p = round(((data['children'].value_counts()[4]) / len(data['children']))*100)\n",
    "five_kid_p = round(((data['children'].value_counts()[5]) / len(data['children']))*100)"
   ]
  },
  {
   "cell_type": "markdown",
   "id": "3328b9fa",
   "metadata": {},
   "source": [
    "#### Number of children mean\n",
    "Define mean number of children."
   ]
  },
  {
   "cell_type": "code",
   "execution_count": null,
   "id": "af46f71b",
   "metadata": {},
   "outputs": [],
   "source": [
    "child_mean = round(data['children'].mean(), 1)"
   ]
  },
  {
   "cell_type": "markdown",
   "id": "ba6f4157",
   "metadata": {},
   "source": [
    "## General summary output - descriptive statistics \n",
    "Basic summary output for the dataset decription."
   ]
  },
  {
   "cell_type": "code",
   "execution_count": null,
   "id": "c5bb0894",
   "metadata": {},
   "outputs": [],
   "source": [
    "print(\"U.S. Medical Insurance Costs dataset - summary statistics\")\n",
    "print( )\n",
    "print(\"1.   Sample regions: \\n \" + (', '.join(region_list)) + \".\")\n",
    "print( )\n",
    "print(\"2.   Sample size: \\n \" + \"- \"+ str(len(data)) + \" patients.\")\n",
    "print( )\n",
    "print(\"3.   Сharges: \\n Distribution: \\n \" + \"- \" + str(min_charge) +\" to \" + str(max_charge) + \" USD. \\n Mean value: \\n \" + \"- \" + str(charge_mean) + \" USD\") \n",
    "print( )\n",
    "print('4.   Gender: (% of total sample) \\n Distribution: \\n ' + \"- \" + str(women_count) + ' females ' + '(' + str(female_percentage) + \"%) \\n \" + \"- \" + str(men_count) + \" males \" + '(' + str(male_percentage) + \"%).\") \n",
    "print( )\n",
    "print(\"5.   Age: \\n Distribution: \\n \" + \"- \" + str(min(data['age'])) + \" to \" + str(max(data['age'])) + \" years old. \\n Mean age: \\n\" + \" - \"+ str(age_mean) + \" years old. \\n Number by categories: (% of total sample) \\n \" + \"- \" + \"Teen: \" + str(age_cat_count['Teen']) + \" (\" + str(age_p['Teen']) + \"%) \\n \" + \"- \" + \"Adult: \" + str(age_cat_count['Adult']) + \" (\" + str(age_p['Adult']) + \"%) \\n \" + \"- \" + \"Middle age adult : \" + str(age_cat_count['Middle age adult']) + \" (\" + str(age_p['Middle age adult']) + \"%) \\n \" + \"- \" + \"Seniour Adult : \" + str(age_cat_count['Seniour Adult']) + \" (\" + str(age_p['Seniour Adult']) + \"%)\")\n",
    "print( )\n",
    "print(\"6.   Smokers: (% of total sample) \\n Distribution: \\n \" + \"- \" + str(smoker_count) + \" smokers \" +\"(\" + str(smoker_percentage) + '%) \\n' + ' - ' + str(non_smokers_count) + ' non-smokers ' + '('+ str(non_smoker_percentage) + '%).')\n",
    "print( )\n",
    "print(\"7.   Number of children: (% of total sample) \\n - 0 children \" + str(zero_kid_p) + \"% \\n - 1 children \" + str(one_kid_p)+ \"% \\n - 2 children \" + str(two_kid_p)+ \"% \\n - 3 children \" + str(three_kid_p)+ \"% \\n - 4 children \" + str(four_kid_p)+ \"% \\n - 5 children \" + str(five_kid_p) + \"%\")\n",
    "print( )\n",
    "print(\"8.   BMI: \\n Distribution: \\n\" + \" - \" + str(min_bmi) + \" to \" + str(max_bmi) + \"\\n Mean value: \\n - \" + str(bmi_mean) + \"\\n Number by categories: (% of total sample) \\n \" + \"- \" + \"Underweight: \" + str(bmi_cat_count['Underweight']) + \" (\" + str(bmi_p['Underweight']) + \"%) \\n \" + \"- \" + \"Healthy: \" + str(bmi_cat_count['Healthy']) + \" (\" + str(bmi_p['Healthy']) + \"%) \\n \" + \"- \" + \"Overweight : \" + str(bmi_cat_count['Overweight']) + \" (\" + str(bmi_p['Overweight']) + \"%) \\n \" + \"- \" + \"Obese : \" + str(bmi_cat_count['Obese']) + \" (\" + str(bmi_p['Obese']) + \"%)\")"
   ]
  },
  {
   "cell_type": "code",
   "execution_count": 41,
   "id": "e91493a5",
   "metadata": {},
   "outputs": [
    {
     "name": "stdout",
     "output_type": "stream",
     "text": [
      "      age     sex     bmi  children smoker     region      charges  \\\n",
      "0      19  female  27.900         0    yes  Southwest  16884.92400   \n",
      "1      18    male  33.770         1     no  Southeast   1725.55230   \n",
      "2      28    male  33.000         3     no  Southeast   4449.46200   \n",
      "3      33    male  22.705         0     no  Northwest  21984.47061   \n",
      "4      32    male  28.880         0     no  Northwest   3866.85520   \n",
      "...   ...     ...     ...       ...    ...        ...          ...   \n",
      "1333   50    male  30.970         3     no  Northwest  10600.54830   \n",
      "1334   18  female  31.920         0     no  Northeast   2205.98080   \n",
      "1335   18  female  36.850         0     no  Southeast   1629.83350   \n",
      "1336   21  female  25.800         0     no  Southwest   2007.94500   \n",
      "1337   61  female  29.070         0    yes  Northwest  29141.36030   \n",
      "\n",
      "          Age_category BMI_category  \n",
      "0                 Teen   Overweight  \n",
      "1                 Teen        Obese  \n",
      "2                Adult        Obese  \n",
      "3                Adult      Healthy  \n",
      "4                Adult   Overweight  \n",
      "...                ...          ...  \n",
      "1333  Middle age adult        Obese  \n",
      "1334              Teen        Obese  \n",
      "1335              Teen        Obese  \n",
      "1336             Adult   Overweight  \n",
      "1337     Seniour Adult   Overweight  \n",
      "\n",
      "[1338 rows x 9 columns]\n"
     ]
    }
   ],
   "source": [
    "print(data)"
   ]
  },
  {
   "cell_type": "markdown",
   "id": "3f20c087",
   "metadata": {},
   "source": [
    "# Insuracne charges descriptive statistics.\n",
    "Obviously, according to the Codecademy task, I am free in what I am doing. \n",
    "\n",
    "There are plenty of types of analysis could be done with this dataset - whether it could be financial or medical. Also, they could be quite deep and I would like to end up by this stage and swith to the next sections of my Python course.\n",
    "\n",
    "In addition, I decided to provide with some financial statistics on which sample categories tend to have greater insurance charges."
   ]
  },
  {
   "cell_type": "markdown",
   "id": "5c509ff1",
   "metadata": {},
   "source": [
    "## Recode and prepair main financial summaries"
   ]
  },
  {
   "cell_type": "markdown",
   "id": "73885ac3",
   "metadata": {},
   "source": [
    "### Gender average insurance charges"
   ]
  },
  {
   "cell_type": "code",
   "execution_count": 42,
   "id": "f9a3e4c4",
   "metadata": {},
   "outputs": [],
   "source": [
    "data.rename(columns = {'charges':'Charges_USD'}, inplace = True)\n",
    "data.rename(columns = {'sex':'Sex'}, inplace = True)\n",
    "data['Sex'] = data['Sex'].map({'male': 'Male', 'female': 'Female'}) \n",
    "sex_cat_charge = round(data.groupby('Sex', as_index=False, sort=False)['Charges_USD'].mean())"
   ]
  },
  {
   "cell_type": "markdown",
   "id": "cf618c84",
   "metadata": {},
   "source": [
    "### Age and average inurance charges"
   ]
  },
  {
   "cell_type": "code",
   "execution_count": 43,
   "id": "1dd8c15f",
   "metadata": {},
   "outputs": [],
   "source": [
    "age_cat_charge = round(data.groupby('Age_category', as_index=False, sort=False)['Charges_USD'].mean())"
   ]
  },
  {
   "cell_type": "markdown",
   "id": "1e3b173e",
   "metadata": {},
   "source": [
    "### Smoking and charges"
   ]
  },
  {
   "cell_type": "code",
   "execution_count": 44,
   "id": "8caac228",
   "metadata": {},
   "outputs": [],
   "source": [
    "data.rename(columns = {'smoker':'Smoker'}, inplace = True)\n",
    "data['Smoker'] = data['Smoker'].map({'yes': 'Smoker', 'no': 'No_smoker'})        \n",
    "smoke_cat_charge = round(data.groupby('Smoker', as_index=False, sort=False)['Charges_USD'].mean())    "
   ]
  },
  {
   "cell_type": "markdown",
   "id": "6274c4d4",
   "metadata": {},
   "source": [
    "### Region average insurance charges"
   ]
  },
  {
   "cell_type": "code",
   "execution_count": 45,
   "id": "d9b025a3",
   "metadata": {},
   "outputs": [],
   "source": [
    "data.rename(columns = {'region':'Region'}, inplace = True)       \n",
    "region_cat_charge = round(data.groupby('Region', as_index=False, sort=False)['Charges_USD'].mean())  "
   ]
  },
  {
   "cell_type": "markdown",
   "id": "b0ca425a",
   "metadata": {},
   "source": [
    "### Number of children and average insurance charges"
   ]
  },
  {
   "cell_type": "code",
   "execution_count": 66,
   "id": "7af34e97",
   "metadata": {},
   "outputs": [
    {
     "name": "stdout",
     "output_type": "stream",
     "text": [
      "   Number_of_children  Charges_USD\n",
      "0                   0      12366.0\n",
      "1                   1      12731.0\n",
      "2                   3      15355.0\n",
      "3                   2      15074.0\n",
      "4                   5       8786.0\n",
      "5                   4      13851.0\n"
     ]
    }
   ],
   "source": [
    "data.rename(columns = {'children':'Number_of_children'}, inplace = True)       \n",
    "child_cat_charge = round(data.groupby('Number_of_children', as_index=False, sort=False)['Charges_USD'].mean())\n",
    "print(child_cat_charge)"
   ]
  },
  {
   "cell_type": "code",
   "execution_count": 60,
   "id": "9aff3d54",
   "metadata": {},
   "outputs": [
    {
     "name": "stdout",
     "output_type": "stream",
     "text": [
      "   index  Number_of_children  Charges_USD\n",
      "0      0                   0      12366.0\n",
      "1      1                   1      12731.0\n",
      "2      2                   3      15355.0\n",
      "3      3                   2      15074.0\n",
      "4      4                   5       8786.0\n",
      "5      5                   4      13851.0\n"
     ]
    }
   ],
   "source": [
    "data.rename(columns = {'children':'Number_of_children'}, inplace = True)       \n",
    "child_cat_charge = round(data.groupby('Number_of_children', as_index=False, sort=False)['Charges_USD'].mean().reset_index())"
   ]
  },
  {
   "cell_type": "markdown",
   "id": "0d226061",
   "metadata": {},
   "source": [
    "### BMI index and insurance charges"
   ]
  },
  {
   "cell_type": "code",
   "execution_count": 57,
   "id": "8abc7d16",
   "metadata": {},
   "outputs": [],
   "source": [
    "bmi_cat_charge = round(data.groupby(\"BMI_category\").Charges_USD.mean().sort_values(ascending=False)) "
   ]
  },
  {
   "cell_type": "markdown",
   "id": "b1e7adf4",
   "metadata": {},
   "source": [
    "## Insurance mean charges summary output"
   ]
  },
  {
   "cell_type": "code",
   "execution_count": 48,
   "id": "c3f7485f",
   "metadata": {},
   "outputs": [
    {
     "name": "stdout",
     "output_type": "stream",
     "text": [
      " - Gender has got a slight difference: males mean charges is quite equal to females mean chrages.\n",
      "      Sex  Charges_USD\n",
      "0  Female      12570.0\n",
      "1    Male      13957.0\n",
      "--------------------------------\n",
      " - Elderly people tend to have greater mean insurance charges than the young one.\n",
      "       Age_category  Charges_USD\n",
      "0              Teen       8407.0\n",
      "1             Adult      10604.0\n",
      "2  Middle age adult      15432.0\n",
      "3     Seniour Adult      21248.0\n",
      "--------------------------------\n",
      " - As expected smokers mean charge is completely greater than non-smokers mean charge.\n",
      "      Smoker  Charges_USD\n",
      "0     Smoker      32050.0\n",
      "1  No_smoker       8434.0\n",
      "--------------------------------\n",
      " - There is no significant difference in mean charges between regions.\n",
      "      Region  Charges_USD\n",
      "0  Southwest      12347.0\n",
      "1  Southeast      14735.0\n",
      "2  Northwest      12418.0\n",
      "3  Northeast      13406.0\n",
      "--------------------------------\n",
      " - There is no significant difference in mean charges across individuals with fdifferent number of children.\n",
      "   Number_of_children  Charges_USD\n",
      "0                   0      12366.0\n",
      "1                   1      12731.0\n",
      "2                   3      15355.0\n",
      "3                   2      15074.0\n",
      "4                   5       8786.0\n",
      "5                   4      13851.0\n",
      "--------------------------------\n",
      " - Individuals with greater BMI have greater mean insurance charges\n",
      "BMI_category\n",
      "Obese          15492.0\n",
      "Overweight     11007.0\n",
      "Healthy        10405.0\n",
      "Underweight     8658.0\n",
      "Name: Charges_USD, dtype: float64\n"
     ]
    }
   ],
   "source": [
    "print(\" - Gender has got a slight difference: males mean charges is quite equal to females mean chrages.\")\n",
    "print(sex_cat_charge)\n",
    "print(\"--------------------------------\")\n",
    "print(\" - Elderly people tend to have greater mean insurance charges than the young one.\")\n",
    "print(age_cat_charge)\n",
    "print(\"--------------------------------\")\n",
    "print(\" - As expected smokers mean charge is completely greater than non-smokers mean charge.\")\n",
    "print(smoke_cat_charge)\n",
    "print(\"--------------------------------\")\n",
    "print(\" - There is no significant difference in mean charges between regions.\")\n",
    "print(region_cat_charge)\n",
    "print(\"--------------------------------\")\n",
    "print(\" - There is no significant difference in mean charges across individuals with fdifferent number of children.\")\n",
    "print(child_cat_charge)\n",
    "print(\"--------------------------------\")\n",
    "print(\" - Individuals with greater BMI have greater mean insurance charges\")\n",
    "print(bmi_cat_charge)\n"
   ]
  }
 ],
 "metadata": {
  "kernelspec": {
   "display_name": "Python 3 (ipykernel)",
   "language": "python",
   "name": "python3"
  },
  "language_info": {
   "codemirror_mode": {
    "name": "ipython",
    "version": 3
   },
   "file_extension": ".py",
   "mimetype": "text/x-python",
   "name": "python",
   "nbconvert_exporter": "python",
   "pygments_lexer": "ipython3",
   "version": "3.9.13"
  },
  "toc": {
   "base_numbering": 1,
   "nav_menu": {},
   "number_sections": true,
   "sideBar": true,
   "skip_h1_title": false,
   "title_cell": "Table of Contents",
   "title_sidebar": "Contents",
   "toc_cell": false,
   "toc_position": {},
   "toc_section_display": true,
   "toc_window_display": true
  },
  "varInspector": {
   "cols": {
    "lenName": 16,
    "lenType": 16,
    "lenVar": 40
   },
   "kernels_config": {
    "python": {
     "delete_cmd_postfix": "",
     "delete_cmd_prefix": "del ",
     "library": "var_list.py",
     "varRefreshCmd": "print(var_dic_list())"
    },
    "r": {
     "delete_cmd_postfix": ") ",
     "delete_cmd_prefix": "rm(",
     "library": "var_list.r",
     "varRefreshCmd": "cat(var_dic_list()) "
    }
   },
   "types_to_exclude": [
    "module",
    "function",
    "builtin_function_or_method",
    "instance",
    "_Feature"
   ],
   "window_display": false
  }
 },
 "nbformat": 4,
 "nbformat_minor": 5
}
